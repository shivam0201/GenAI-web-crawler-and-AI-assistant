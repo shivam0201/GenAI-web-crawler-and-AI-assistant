{
 "cells": [
  {
   "cell_type": "code",
   "execution_count": null,
   "id": "1526eaaa-ce6d-4db0-9dbe-bdd5de0363db",
   "metadata": {},
   "outputs": [],
   "source": [
    "import json\n",
    "\n",
    "def verify_json_structure(file_path):\n",
    "    with open(file_path, 'r') as file:\n",
    "        data = json.load(file)\n",
    "    \n",
    "    for url, content in data.items():\n",
    "        # Verify if 10 questions are present\n",
    "        questions = content.get(\"questions\", [])\n",
    "        if len(questions) != 10:\n",
    "            print(f\"Validation Result: False, Message: Incorrect number of questions for URL: {url}\")\n",
    "            continue\n",
    "        \n",
    "        for question in questions:\n",
    "            if len(question) > 80:\n",
    "                print(f\"Validation Result: False, Message: Question exceeds 80 characters for URL: {url}\")\n",
    "                continue\n",
    "\n",
    "        # Verify if 5 relevant links are present\n",
    "        relevant_links = content.get(\"relevant_links\", [])\n",
    "        if len(relevant_links) != 5:\n",
    "            print(f\"Validation Result: False, Message: Incorrect number of relevant links for URL: {url}\")\n",
    "            continue \n",
    "        print(f\"Validation Result: True, Message: All JSON entries are valid for URL : {url}\")\n",
    "\n",
    "# Example usage\n",
    "file_path = \"my_dict.json\"\n",
    "verify_json_structure(file_path)\n"
   ]
  }
 ],
 "metadata": {
  "kernelspec": {
   "display_name": "Python 3 (ipykernel)",
   "language": "python",
   "name": "python3"
  },
  "language_info": {
   "codemirror_mode": {
    "name": "ipython",
    "version": 3
   },
   "file_extension": ".py",
   "mimetype": "text/x-python",
   "name": "python",
   "nbconvert_exporter": "python",
   "pygments_lexer": "ipython3",
   "version": "3.11.7"
  }
 },
 "nbformat": 4,
 "nbformat_minor": 5
}
